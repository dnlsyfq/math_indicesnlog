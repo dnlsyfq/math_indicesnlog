{
 "cells": [
  {
   "cell_type": "markdown",
   "metadata": {},
   "source": [
    "## Indices "
   ]
  },
  {
   "cell_type": "markdown",
   "metadata": {},
   "source": [
    "**Rules :**\n",
    "\n",
    "> $a^m \\times a^n$ = $a^{m+n}$\n",
    "\n",
    "> $a^m \\div  a^n $ = $a^{m-n}$\n",
    "\n",
    "> $(a^m)^n$ = $a^{mn}$\n",
    "\n",
    "\n",
    "**Expanded Rules:**\n",
    "\n",
    "> $\\sqrt a \\sqrt b $ = $\\sqrt ab $\n",
    "\n",
    "> $\\frac{\\sqrt a}{\\sqrt b}$ = $\\sqrt \\frac{a}{b}$\n",
    "\n",
    "> $(\\sqrt a + \\sqrt b)(\\sqrt a - \\sqrt b)$ = $a - b$"
   ]
  },
  {
   "cell_type": "markdown",
   "metadata": {},
   "source": [
    "**Exponential Equations**\n",
    "\n",
    "1. Compare Base and Index\n",
    "2. Log , Square Both Side\n",
    "3. Substitution with Quadratic Equation "
   ]
  },
  {
   "cell_type": "markdown",
   "metadata": {},
   "source": [
    "$\\equiv$$\\bmod$"
   ]
  },
  {
   "cell_type": "markdown",
   "metadata": {},
   "source": [
    "$\\bmod$"
   ]
  },
  {
   "cell_type": "code",
   "execution_count": null,
   "metadata": {},
   "outputs": [],
   "source": []
  }
 ],
 "metadata": {
  "kernelspec": {
   "display_name": "Python 3",
   "language": "python",
   "name": "python3"
  },
  "language_info": {
   "codemirror_mode": {
    "name": "ipython",
    "version": 3
   },
   "file_extension": ".py",
   "mimetype": "text/x-python",
   "name": "python",
   "nbconvert_exporter": "python",
   "pygments_lexer": "ipython3",
   "version": "3.6.4"
  }
 },
 "nbformat": 4,
 "nbformat_minor": 4
}