{
 "cells": [
  {
   "cell_type": "markdown",
   "metadata": {},
   "source": [
    "## Indices "
   ]
  },
  {
   "cell_type": "markdown",
   "metadata": {},
   "source": [
    "**Rules :**\n",
    "\n",
    "> $a^m \\times a^n$ = $a^{m+n}$\n",
    "\n",
    "> $a^m \\div  a^n $ = $a^{m-n}$\n",
    "\n",
    "> $(a^m)^n$ = $a^{mn}$\n",
    "\n",
    "\n",
    "**Expanded Rules:**\n",
    "\n",
    "> $\\sqrt a \\sqrt b $ = $\\sqrt ab $\n",
    "\n",
    "> $\\frac{\\sqrt a}{\\sqrt b}$ = $\\sqrt \\frac{a}{b}$\n",
    "\n",
    "> $(\\sqrt a + \\sqrt b)(\\sqrt a - \\sqrt b)$ = $a - b$"
   ]
  }
 ],
 "metadata": {
  "kernelspec": {
   "display_name": "Python 3",
   "language": "python",
   "name": "python3"
  },
  "language_info": {
   "codemirror_mode": {
    "name": "ipython",
    "version": 3
   },
   "file_extension": ".py",
   "mimetype": "text/x-python",
   "name": "python",
   "nbconvert_exporter": "python",
   "pygments_lexer": "ipython3",
   "version": "3.6.4"
  },
  "latex_envs": {
   "LaTeX_envs_menu_present": true,
   "autoclose": false,
   "autocomplete": true,
   "bibliofile": "biblio.bib",
   "cite_by": "apalike",
   "current_citInitial": 1,
   "eqLabelWithNumbers": true,
   "eqNumInitial": 1,
   "hotkeys": {
    "equation": "Ctrl-E",
    "itemize": "Ctrl-I"
   },
   "labels_anchors": false,
   "latex_user_defs": false,
   "report_style_numbering": false,
   "user_envs_cfg": false
  }
 },
 "nbformat": 4,
 "nbformat_minor": 4
}
